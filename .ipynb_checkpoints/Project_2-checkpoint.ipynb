{
 "cells": [
  {
   "cell_type": "code",
   "execution_count": 1,
   "metadata": {},
   "outputs": [],
   "source": [
    "import numpy as np\n",
    "import pandas as pd\n",
    "import matplotlib.pyplot as plt\n",
    "import requests\n",
    "import json\n",
    "from scipy import stats as st\n",
    "from sqlalchemy import create_engine\n",
    "\n",
    "pd.set_option('display.max_rows', None)"
   ]
  },
  {
   "cell_type": "code",
   "execution_count": 2,
   "metadata": {},
   "outputs": [],
   "source": [
    "#set the CSV files into a database\n",
    "IMDB_route = \"Resources/movies.csv\"\n",
    "stream_route = \"Resources/Stream.csv\"\n",
    "imdb_db = pd.read_csv(IMDB_route)\n",
    "stream_db = pd.read_csv(stream_route)"
   ]
  },
  {
   "cell_type": "code",
   "execution_count": 3,
   "metadata": {
    "scrolled": false
   },
   "outputs": [
    {
     "data": {
      "text/html": [
       "<div>\n",
       "<style scoped>\n",
       "    .dataframe tbody tr th:only-of-type {\n",
       "        vertical-align: middle;\n",
       "    }\n",
       "\n",
       "    .dataframe tbody tr th {\n",
       "        vertical-align: top;\n",
       "    }\n",
       "\n",
       "    .dataframe thead th {\n",
       "        text-align: right;\n",
       "    }\n",
       "</style>\n",
       "<table border=\"1\" class=\"dataframe\">\n",
       "  <thead>\n",
       "    <tr style=\"text-align: right;\">\n",
       "      <th></th>\n",
       "      <th>Unnamed: 0</th>\n",
       "      <th>ID</th>\n",
       "      <th>Title</th>\n",
       "      <th>Year</th>\n",
       "      <th>Age</th>\n",
       "      <th>IMDb</th>\n",
       "      <th>Rotten Tomatoes</th>\n",
       "      <th>Netflix</th>\n",
       "      <th>Hulu</th>\n",
       "      <th>Prime Video</th>\n",
       "      <th>Disney+</th>\n",
       "      <th>Type</th>\n",
       "      <th>Directors</th>\n",
       "      <th>Genres</th>\n",
       "      <th>Country</th>\n",
       "      <th>Language</th>\n",
       "      <th>Runtime</th>\n",
       "    </tr>\n",
       "  </thead>\n",
       "  <tbody>\n",
       "    <tr>\n",
       "      <td>0</td>\n",
       "      <td>0</td>\n",
       "      <td>1</td>\n",
       "      <td>Inception</td>\n",
       "      <td>2010</td>\n",
       "      <td>13+</td>\n",
       "      <td>8.8</td>\n",
       "      <td>87%</td>\n",
       "      <td>1</td>\n",
       "      <td>0</td>\n",
       "      <td>0</td>\n",
       "      <td>0</td>\n",
       "      <td>0</td>\n",
       "      <td>Christopher Nolan</td>\n",
       "      <td>Action,Adventure,Sci-Fi,Thriller</td>\n",
       "      <td>United States,United Kingdom</td>\n",
       "      <td>English,Japanese,French</td>\n",
       "      <td>148.0</td>\n",
       "    </tr>\n",
       "    <tr>\n",
       "      <td>1</td>\n",
       "      <td>1</td>\n",
       "      <td>2</td>\n",
       "      <td>The Matrix</td>\n",
       "      <td>1999</td>\n",
       "      <td>18+</td>\n",
       "      <td>8.7</td>\n",
       "      <td>87%</td>\n",
       "      <td>1</td>\n",
       "      <td>0</td>\n",
       "      <td>0</td>\n",
       "      <td>0</td>\n",
       "      <td>0</td>\n",
       "      <td>Lana Wachowski,Lilly Wachowski</td>\n",
       "      <td>Action,Sci-Fi</td>\n",
       "      <td>United States</td>\n",
       "      <td>English</td>\n",
       "      <td>136.0</td>\n",
       "    </tr>\n",
       "    <tr>\n",
       "      <td>2</td>\n",
       "      <td>2</td>\n",
       "      <td>3</td>\n",
       "      <td>Avengers: Infinity War</td>\n",
       "      <td>2018</td>\n",
       "      <td>13+</td>\n",
       "      <td>8.5</td>\n",
       "      <td>84%</td>\n",
       "      <td>1</td>\n",
       "      <td>0</td>\n",
       "      <td>0</td>\n",
       "      <td>0</td>\n",
       "      <td>0</td>\n",
       "      <td>Anthony Russo,Joe Russo</td>\n",
       "      <td>Action,Adventure,Sci-Fi</td>\n",
       "      <td>United States</td>\n",
       "      <td>English</td>\n",
       "      <td>149.0</td>\n",
       "    </tr>\n",
       "    <tr>\n",
       "      <td>3</td>\n",
       "      <td>3</td>\n",
       "      <td>4</td>\n",
       "      <td>Back to the Future</td>\n",
       "      <td>1985</td>\n",
       "      <td>7+</td>\n",
       "      <td>8.5</td>\n",
       "      <td>96%</td>\n",
       "      <td>1</td>\n",
       "      <td>0</td>\n",
       "      <td>0</td>\n",
       "      <td>0</td>\n",
       "      <td>0</td>\n",
       "      <td>Robert Zemeckis</td>\n",
       "      <td>Adventure,Comedy,Sci-Fi</td>\n",
       "      <td>United States</td>\n",
       "      <td>English</td>\n",
       "      <td>116.0</td>\n",
       "    </tr>\n",
       "    <tr>\n",
       "      <td>4</td>\n",
       "      <td>4</td>\n",
       "      <td>5</td>\n",
       "      <td>The Good, the Bad and the Ugly</td>\n",
       "      <td>1966</td>\n",
       "      <td>18+</td>\n",
       "      <td>8.8</td>\n",
       "      <td>97%</td>\n",
       "      <td>1</td>\n",
       "      <td>0</td>\n",
       "      <td>1</td>\n",
       "      <td>0</td>\n",
       "      <td>0</td>\n",
       "      <td>Sergio Leone</td>\n",
       "      <td>Western</td>\n",
       "      <td>Italy,Spain,West Germany</td>\n",
       "      <td>Italian</td>\n",
       "      <td>161.0</td>\n",
       "    </tr>\n",
       "  </tbody>\n",
       "</table>\n",
       "</div>"
      ],
      "text/plain": [
       "   Unnamed: 0  ID                           Title  Year  Age  IMDb  \\\n",
       "0           0   1                       Inception  2010  13+   8.8   \n",
       "1           1   2                      The Matrix  1999  18+   8.7   \n",
       "2           2   3          Avengers: Infinity War  2018  13+   8.5   \n",
       "3           3   4              Back to the Future  1985   7+   8.5   \n",
       "4           4   5  The Good, the Bad and the Ugly  1966  18+   8.8   \n",
       "\n",
       "  Rotten Tomatoes  Netflix  Hulu  Prime Video  Disney+  Type  \\\n",
       "0             87%        1     0            0        0     0   \n",
       "1             87%        1     0            0        0     0   \n",
       "2             84%        1     0            0        0     0   \n",
       "3             96%        1     0            0        0     0   \n",
       "4             97%        1     0            1        0     0   \n",
       "\n",
       "                        Directors                            Genres  \\\n",
       "0               Christopher Nolan  Action,Adventure,Sci-Fi,Thriller   \n",
       "1  Lana Wachowski,Lilly Wachowski                     Action,Sci-Fi   \n",
       "2         Anthony Russo,Joe Russo           Action,Adventure,Sci-Fi   \n",
       "3                 Robert Zemeckis           Adventure,Comedy,Sci-Fi   \n",
       "4                    Sergio Leone                           Western   \n",
       "\n",
       "                        Country                 Language  Runtime  \n",
       "0  United States,United Kingdom  English,Japanese,French    148.0  \n",
       "1                 United States                  English    136.0  \n",
       "2                 United States                  English    149.0  \n",
       "3                 United States                  English    116.0  \n",
       "4      Italy,Spain,West Germany                  Italian    161.0  "
      ]
     },
     "execution_count": 3,
     "metadata": {},
     "output_type": "execute_result"
    }
   ],
   "source": [
    "# Create the pandas DataFrame \n",
    "stream_df = pd.DataFrame(stream_db)\n",
    "\n",
    "stream_df.head()"
   ]
  },
  {
   "cell_type": "code",
   "execution_count": 4,
   "metadata": {},
   "outputs": [],
   "source": [
    "# Create the pandas DataFrame \n",
    "imdb_df = pd.DataFrame(imdb_db)\n",
    "\n",
    "imdb_df = imdb_df.rename(columns={\"title\": \"Title\"})\n"
   ]
  },
  {
   "cell_type": "code",
   "execution_count": 5,
   "metadata": {
    "scrolled": true
   },
   "outputs": [
    {
     "name": "stdout",
     "output_type": "stream",
     "text": [
      "['Unnamed: 0', 'ID', 'Title', 'Year', 'Age', 'IMDb', 'Rotten Tomatoes', 'Netflix', 'Hulu', 'Prime Video', 'Disney+', 'Type', 'Directors', 'Genres', 'Country', 'Language', 'Runtime', 'imdb_title_id', 'original_title', 'year', 'date_published', 'genre', 'duration', 'country', 'language', 'director', 'writer', 'production_company', 'actors', 'description', 'avg_vote', 'votes', 'budget', 'usa_gross_income', 'worlwide_gross_income', 'metascore', 'reviews_from_users', 'reviews_from_critics']\n"
     ]
    }
   ],
   "source": [
    "#merge the imdb_df and stream_df together into one dataframe\n",
    "merged_df = stream_df.merge(imdb_df, left_on='Title', right_on='Title')\n",
    "\n",
    "#print all the titles out to see what to cut out\n",
    "print(merged_df.columns.tolist())"
   ]
  },
  {
   "cell_type": "code",
   "execution_count": 6,
   "metadata": {},
   "outputs": [
    {
     "data": {
      "text/html": [
       "<div>\n",
       "<style scoped>\n",
       "    .dataframe tbody tr th:only-of-type {\n",
       "        vertical-align: middle;\n",
       "    }\n",
       "\n",
       "    .dataframe tbody tr th {\n",
       "        vertical-align: top;\n",
       "    }\n",
       "\n",
       "    .dataframe thead th {\n",
       "        text-align: right;\n",
       "    }\n",
       "</style>\n",
       "<table border=\"1\" class=\"dataframe\">\n",
       "  <thead>\n",
       "    <tr style=\"text-align: right;\">\n",
       "      <th></th>\n",
       "      <th>Unnamed: 0</th>\n",
       "      <th>ID</th>\n",
       "      <th>Title</th>\n",
       "      <th>Year</th>\n",
       "      <th>Age</th>\n",
       "      <th>IMDb</th>\n",
       "      <th>Rotten Tomatoes</th>\n",
       "      <th>Netflix</th>\n",
       "      <th>Hulu</th>\n",
       "      <th>Prime Video</th>\n",
       "      <th>...</th>\n",
       "      <th>actors</th>\n",
       "      <th>description</th>\n",
       "      <th>avg_vote</th>\n",
       "      <th>votes</th>\n",
       "      <th>budget</th>\n",
       "      <th>usa_gross_income</th>\n",
       "      <th>worlwide_gross_income</th>\n",
       "      <th>metascore</th>\n",
       "      <th>reviews_from_users</th>\n",
       "      <th>reviews_from_critics</th>\n",
       "    </tr>\n",
       "  </thead>\n",
       "  <tbody>\n",
       "    <tr>\n",
       "      <td>0</td>\n",
       "      <td>0</td>\n",
       "      <td>1</td>\n",
       "      <td>inception</td>\n",
       "      <td>2010</td>\n",
       "      <td>13+</td>\n",
       "      <td>8.8</td>\n",
       "      <td>87%</td>\n",
       "      <td>1</td>\n",
       "      <td>0</td>\n",
       "      <td>0</td>\n",
       "      <td>...</td>\n",
       "      <td>Leonardo DiCaprio, Joseph Gordon-Levitt, Ellen...</td>\n",
       "      <td>A thief who steals corporate secrets through t...</td>\n",
       "      <td>8.8</td>\n",
       "      <td>1892929</td>\n",
       "      <td>$ 160000000</td>\n",
       "      <td>$ 292576195</td>\n",
       "      <td>$ 829895144</td>\n",
       "      <td>74.0</td>\n",
       "      <td>3439.0</td>\n",
       "      <td>462.0</td>\n",
       "    </tr>\n",
       "    <tr>\n",
       "      <td>1</td>\n",
       "      <td>1</td>\n",
       "      <td>2</td>\n",
       "      <td>the matrix</td>\n",
       "      <td>1999</td>\n",
       "      <td>18+</td>\n",
       "      <td>8.7</td>\n",
       "      <td>87%</td>\n",
       "      <td>1</td>\n",
       "      <td>0</td>\n",
       "      <td>0</td>\n",
       "      <td>...</td>\n",
       "      <td>Keanu Reeves, Laurence Fishburne, Carrie-Anne ...</td>\n",
       "      <td>A computer hacker learns from mysterious rebel...</td>\n",
       "      <td>8.7</td>\n",
       "      <td>1554261</td>\n",
       "      <td>$ 63000000</td>\n",
       "      <td>$ 171479930</td>\n",
       "      <td>$ 465343787</td>\n",
       "      <td>73.0</td>\n",
       "      <td>4069.0</td>\n",
       "      <td>337.0</td>\n",
       "    </tr>\n",
       "    <tr>\n",
       "      <td>2</td>\n",
       "      <td>2</td>\n",
       "      <td>3</td>\n",
       "      <td>avengers: infinity war</td>\n",
       "      <td>2018</td>\n",
       "      <td>13+</td>\n",
       "      <td>8.5</td>\n",
       "      <td>84%</td>\n",
       "      <td>1</td>\n",
       "      <td>0</td>\n",
       "      <td>0</td>\n",
       "      <td>...</td>\n",
       "      <td>Robert Downey Jr., Chris Hemsworth, Mark Ruffa...</td>\n",
       "      <td>The Avengers and their allies must be willing ...</td>\n",
       "      <td>8.5</td>\n",
       "      <td>725138</td>\n",
       "      <td>$ 321000000</td>\n",
       "      <td>$ 678815482</td>\n",
       "      <td>$ 2048359754</td>\n",
       "      <td>68.0</td>\n",
       "      <td>4111.0</td>\n",
       "      <td>591.0</td>\n",
       "    </tr>\n",
       "    <tr>\n",
       "      <td>3</td>\n",
       "      <td>3</td>\n",
       "      <td>4</td>\n",
       "      <td>back to the future</td>\n",
       "      <td>1985</td>\n",
       "      <td>7+</td>\n",
       "      <td>8.5</td>\n",
       "      <td>96%</td>\n",
       "      <td>1</td>\n",
       "      <td>0</td>\n",
       "      <td>0</td>\n",
       "      <td>...</td>\n",
       "      <td>Michael J. Fox, Christopher Lloyd, Lea Thompso...</td>\n",
       "      <td>Marty McFly, a 17-year-old high school student...</td>\n",
       "      <td>8.5</td>\n",
       "      <td>965471</td>\n",
       "      <td>$ 19000000</td>\n",
       "      <td>$ 211159762</td>\n",
       "      <td>$ 388355305</td>\n",
       "      <td>87.0</td>\n",
       "      <td>1050.0</td>\n",
       "      <td>233.0</td>\n",
       "    </tr>\n",
       "    <tr>\n",
       "      <td>4</td>\n",
       "      <td>5</td>\n",
       "      <td>6</td>\n",
       "      <td>spider-man: into the spider-verse</td>\n",
       "      <td>2018</td>\n",
       "      <td>7+</td>\n",
       "      <td>8.4</td>\n",
       "      <td>97%</td>\n",
       "      <td>1</td>\n",
       "      <td>0</td>\n",
       "      <td>0</td>\n",
       "      <td>...</td>\n",
       "      <td>Shameik Moore, Jake Johnson, Hailee Steinfeld,...</td>\n",
       "      <td>Teen Miles Morales becomes Spider-Man of his r...</td>\n",
       "      <td>8.4</td>\n",
       "      <td>275653</td>\n",
       "      <td>$ 90000000</td>\n",
       "      <td>$ 190241310</td>\n",
       "      <td>$ 375540831</td>\n",
       "      <td>87.0</td>\n",
       "      <td>1653.0</td>\n",
       "      <td>379.0</td>\n",
       "    </tr>\n",
       "  </tbody>\n",
       "</table>\n",
       "<p>5 rows × 38 columns</p>\n",
       "</div>"
      ],
      "text/plain": [
       "   Unnamed: 0  ID                              Title  Year  Age  IMDb  \\\n",
       "0           0   1                          inception  2010  13+   8.8   \n",
       "1           1   2                         the matrix  1999  18+   8.7   \n",
       "2           2   3             avengers: infinity war  2018  13+   8.5   \n",
       "3           3   4                 back to the future  1985   7+   8.5   \n",
       "4           5   6  spider-man: into the spider-verse  2018   7+   8.4   \n",
       "\n",
       "  Rotten Tomatoes  Netflix  Hulu  Prime Video  ...  \\\n",
       "0             87%        1     0            0  ...   \n",
       "1             87%        1     0            0  ...   \n",
       "2             84%        1     0            0  ...   \n",
       "3             96%        1     0            0  ...   \n",
       "4             97%        1     0            0  ...   \n",
       "\n",
       "                                              actors  \\\n",
       "0  Leonardo DiCaprio, Joseph Gordon-Levitt, Ellen...   \n",
       "1  Keanu Reeves, Laurence Fishburne, Carrie-Anne ...   \n",
       "2  Robert Downey Jr., Chris Hemsworth, Mark Ruffa...   \n",
       "3  Michael J. Fox, Christopher Lloyd, Lea Thompso...   \n",
       "4  Shameik Moore, Jake Johnson, Hailee Steinfeld,...   \n",
       "\n",
       "                                         description avg_vote    votes  \\\n",
       "0  A thief who steals corporate secrets through t...      8.8  1892929   \n",
       "1  A computer hacker learns from mysterious rebel...      8.7  1554261   \n",
       "2  The Avengers and their allies must be willing ...      8.5   725138   \n",
       "3  Marty McFly, a 17-year-old high school student...      8.5   965471   \n",
       "4  Teen Miles Morales becomes Spider-Man of his r...      8.4   275653   \n",
       "\n",
       "        budget usa_gross_income  worlwide_gross_income metascore  \\\n",
       "0  $ 160000000      $ 292576195            $ 829895144      74.0   \n",
       "1   $ 63000000      $ 171479930            $ 465343787      73.0   \n",
       "2  $ 321000000      $ 678815482           $ 2048359754      68.0   \n",
       "3   $ 19000000      $ 211159762            $ 388355305      87.0   \n",
       "4   $ 90000000      $ 190241310            $ 375540831      87.0   \n",
       "\n",
       "  reviews_from_users  reviews_from_critics  \n",
       "0             3439.0                 462.0  \n",
       "1             4069.0                 337.0  \n",
       "2             4111.0                 591.0  \n",
       "3             1050.0                 233.0  \n",
       "4             1653.0                 379.0  \n",
       "\n",
       "[5 rows x 38 columns]"
      ]
     },
     "execution_count": 6,
     "metadata": {},
     "output_type": "execute_result"
    }
   ],
   "source": [
    "merged_df['Title'] = merged_df['Title'].str.lower()\n",
    "merged_df.head()"
   ]
  },
  {
   "cell_type": "code",
   "execution_count": 7,
   "metadata": {},
   "outputs": [],
   "source": [
    "#keep the columns I want for my new merged dataframe\n",
    "\n",
    "ratings_df = merged_df[['Title', 'IMDb', 'Rotten Tomatoes', 'metascore', 'reviews_from_users', 'reviews_from_critics']]\n",
    "\n",
    "economy_df = merged_df[['Title', 'usa_gross_income', 'worlwide_gross_income', 'budget']]\n",
    "\n",
    "crew_df = merged_df[['Title', 'director', 'writer', 'production_company', 'actors']]\n",
    "\n",
    "details_df = merged_df[['Title', 'genre', 'duration', 'country', 'language', 'description', 'date_published' ]]\n",
    "\n",
    "streaming_df = merged_df[['Title', 'Netflix' , 'Hulu', 'Prime Video', 'Disney+']]\n",
    "\n",
    "merged_df = merged_df[['Title', 'year', 'Age', 'IMDb', 'Rotten Tomatoes', 'metascore', 'description', 'Runtime', 'Netflix', 'Hulu', 'Prime Video', 'Disney+']]"
   ]
  },
  {
   "cell_type": "code",
   "execution_count": 8,
   "metadata": {},
   "outputs": [],
   "source": [
    "ratings_df = ratings_df.rename(columns = {'Title': 'title', 'IMDb': 'imdb', 'Rotten Tomatoes': 'tomatoes', 'reviews_from_users': 'user','reviews_from_critics': 'critics'})\n",
    "economy_df = economy_df.rename(columns ={'Title': 'title','usa_gross_income': 'usa', 'worlwide_gross_income': 'worldwide'})\n",
    "crew_df = crew_df.rename(columns ={'Title': 'title', 'production_company': 'company'})\n",
    "details_df = details_df.rename(columns ={'Title': 'title', 'date_published': 'date'})\n",
    "streaming_df = streaming_df.rename(columns ={'Title': 'title', 'Netflix': 'netflix', 'Hulu': 'hulu', 'Prime Video': 'prime', 'Disney+': 'disney'})"
   ]
  },
  {
   "cell_type": "code",
   "execution_count": 9,
   "metadata": {},
   "outputs": [
    {
     "data": {
      "text/html": [
       "<div>\n",
       "<style scoped>\n",
       "    .dataframe tbody tr th:only-of-type {\n",
       "        vertical-align: middle;\n",
       "    }\n",
       "\n",
       "    .dataframe tbody tr th {\n",
       "        vertical-align: top;\n",
       "    }\n",
       "\n",
       "    .dataframe thead th {\n",
       "        text-align: right;\n",
       "    }\n",
       "</style>\n",
       "<table border=\"1\" class=\"dataframe\">\n",
       "  <thead>\n",
       "    <tr style=\"text-align: right;\">\n",
       "      <th></th>\n",
       "      <th>title</th>\n",
       "      <th>genre</th>\n",
       "      <th>duration</th>\n",
       "      <th>country</th>\n",
       "      <th>language</th>\n",
       "      <th>description</th>\n",
       "      <th>date</th>\n",
       "    </tr>\n",
       "  </thead>\n",
       "  <tbody>\n",
       "    <tr>\n",
       "      <td>0</td>\n",
       "      <td>inception</td>\n",
       "      <td>Action, Adventure, Sci-Fi</td>\n",
       "      <td>148</td>\n",
       "      <td>USA, UK</td>\n",
       "      <td>English, Japanese, French</td>\n",
       "      <td>A thief who steals corporate secrets through t...</td>\n",
       "      <td>2010-07-16</td>\n",
       "    </tr>\n",
       "    <tr>\n",
       "      <td>1</td>\n",
       "      <td>the matrix</td>\n",
       "      <td>Action, Sci-Fi</td>\n",
       "      <td>136</td>\n",
       "      <td>USA</td>\n",
       "      <td>English</td>\n",
       "      <td>A computer hacker learns from mysterious rebel...</td>\n",
       "      <td>1999-06-11</td>\n",
       "    </tr>\n",
       "    <tr>\n",
       "      <td>2</td>\n",
       "      <td>avengers: infinity war</td>\n",
       "      <td>Action, Adventure, Sci-Fi</td>\n",
       "      <td>149</td>\n",
       "      <td>USA</td>\n",
       "      <td>English</td>\n",
       "      <td>The Avengers and their allies must be willing ...</td>\n",
       "      <td>2018-04-26</td>\n",
       "    </tr>\n",
       "    <tr>\n",
       "      <td>3</td>\n",
       "      <td>back to the future</td>\n",
       "      <td>Adventure, Comedy, Sci-Fi</td>\n",
       "      <td>116</td>\n",
       "      <td>USA</td>\n",
       "      <td>English</td>\n",
       "      <td>Marty McFly, a 17-year-old high school student...</td>\n",
       "      <td>1985-12-04</td>\n",
       "    </tr>\n",
       "    <tr>\n",
       "      <td>4</td>\n",
       "      <td>spider-man: into the spider-verse</td>\n",
       "      <td>Animation, Action, Adventure</td>\n",
       "      <td>117</td>\n",
       "      <td>USA</td>\n",
       "      <td>English, Spanish</td>\n",
       "      <td>Teen Miles Morales becomes Spider-Man of his r...</td>\n",
       "      <td>2018-12-12</td>\n",
       "    </tr>\n",
       "  </tbody>\n",
       "</table>\n",
       "</div>"
      ],
      "text/plain": [
       "                               title                         genre  duration  \\\n",
       "0                          inception     Action, Adventure, Sci-Fi       148   \n",
       "1                         the matrix                Action, Sci-Fi       136   \n",
       "2             avengers: infinity war     Action, Adventure, Sci-Fi       149   \n",
       "3                 back to the future     Adventure, Comedy, Sci-Fi       116   \n",
       "4  spider-man: into the spider-verse  Animation, Action, Adventure       117   \n",
       "\n",
       "   country                   language  \\\n",
       "0  USA, UK  English, Japanese, French   \n",
       "1      USA                    English   \n",
       "2      USA                    English   \n",
       "3      USA                    English   \n",
       "4      USA           English, Spanish   \n",
       "\n",
       "                                         description        date  \n",
       "0  A thief who steals corporate secrets through t...  2010-07-16  \n",
       "1  A computer hacker learns from mysterious rebel...  1999-06-11  \n",
       "2  The Avengers and their allies must be willing ...  2018-04-26  \n",
       "3  Marty McFly, a 17-year-old high school student...  1985-12-04  \n",
       "4  Teen Miles Morales becomes Spider-Man of his r...  2018-12-12  "
      ]
     },
     "execution_count": 9,
     "metadata": {},
     "output_type": "execute_result"
    }
   ],
   "source": [
    "details_df.head()"
   ]
  },
  {
   "cell_type": "code",
   "execution_count": 10,
   "metadata": {},
   "outputs": [
    {
     "data": {
      "text/html": [
       "<div>\n",
       "<style scoped>\n",
       "    .dataframe tbody tr th:only-of-type {\n",
       "        vertical-align: middle;\n",
       "    }\n",
       "\n",
       "    .dataframe tbody tr th {\n",
       "        vertical-align: top;\n",
       "    }\n",
       "\n",
       "    .dataframe thead th {\n",
       "        text-align: right;\n",
       "    }\n",
       "</style>\n",
       "<table border=\"1\" class=\"dataframe\">\n",
       "  <thead>\n",
       "    <tr style=\"text-align: right;\">\n",
       "      <th></th>\n",
       "      <th>title</th>\n",
       "      <th>year</th>\n",
       "      <th>age</th>\n",
       "      <th>IMDb</th>\n",
       "      <th>rotten tomatoes</th>\n",
       "      <th>metascore</th>\n",
       "      <th>description</th>\n",
       "      <th>runtime</th>\n",
       "      <th>netflix</th>\n",
       "      <th>hulu</th>\n",
       "      <th>prime</th>\n",
       "      <th>disney</th>\n",
       "    </tr>\n",
       "  </thead>\n",
       "  <tbody>\n",
       "    <tr>\n",
       "      <td>0</td>\n",
       "      <td>inception</td>\n",
       "      <td>2010</td>\n",
       "      <td>13+</td>\n",
       "      <td>8.8</td>\n",
       "      <td>87%</td>\n",
       "      <td>74.0</td>\n",
       "      <td>A thief who steals corporate secrets through t...</td>\n",
       "      <td>148.0</td>\n",
       "      <td>1</td>\n",
       "      <td>0</td>\n",
       "      <td>0</td>\n",
       "      <td>0</td>\n",
       "    </tr>\n",
       "  </tbody>\n",
       "</table>\n",
       "</div>"
      ],
      "text/plain": [
       "       title  year  age  IMDb rotten tomatoes  metascore  \\\n",
       "0  inception  2010  13+   8.8             87%       74.0   \n",
       "\n",
       "                                         description  runtime  netflix  hulu  \\\n",
       "0  A thief who steals corporate secrets through t...    148.0        1     0   \n",
       "\n",
       "   prime  disney  \n",
       "0      0       0  "
      ]
     },
     "execution_count": 10,
     "metadata": {},
     "output_type": "execute_result"
    }
   ],
   "source": [
    "#rename columns to get rid of Querying issue where all of the titles has \"\" in the title\n",
    "merged_df = merged_df.rename(columns={'Title': 'title', 'Age':'age', 'IMDb':'IMDb', 'Rotten Tomatoes': 'rotten tomatoes', \n",
    "                                      'Runtime': 'runtime', 'Netflix': 'netflix', 'Hulu': 'hulu', 'Prime Video': 'prime', 'Disney+': 'disney'})\n",
    "\n",
    "merged_df.head(1)"
   ]
  },
  {
   "cell_type": "code",
   "execution_count": null,
   "metadata": {},
   "outputs": [],
   "source": []
  },
  {
   "cell_type": "code",
   "execution_count": 14,
   "metadata": {},
   "outputs": [],
   "source": [
    "#create the connection to my postgres account to then add the merged_df\n",
    "#Please add your username:password for PGadmin. The database name is postgres(which must be created or have the name\n",
    "#altered to represent an existing database)\n",
    "# We used \"postgres:postgres@localhost/postgres\"\n",
    "rds_connection_string = \"postgres:postgres@localhost/postgres\"\n",
    "engine = create_engine(f'postgresql://{rds_connection_string}')"
   ]
  },
  {
   "cell_type": "code",
   "execution_count": 17,
   "metadata": {},
   "outputs": [
    {
     "data": {
      "text/plain": [
       "['merged_df',\n",
       " 'economy',\n",
       " 'crew',\n",
       " 'details',\n",
       " 'streaming',\n",
       " 'movie_reviews',\n",
       " 'ratings']"
      ]
     },
     "execution_count": 17,
     "metadata": {},
     "output_type": "execute_result"
    }
   ],
   "source": [
    "#check that I have the connection and what databases there are\n",
    "engine.table_names()"
   ]
  },
  {
   "cell_type": "code",
   "execution_count": 16,
   "metadata": {},
   "outputs": [],
   "source": [
    "#send my merged_df into pgAdmin\n",
    "merged_df.to_sql(name='movie_reviews', con=engine, index=False)\n",
    "ratings_df.to_sql(name='ratings', con=engine, index=False)\n",
    "economy_df.to_sql(name='economy', con=engine, index=False)\n",
    "crew_df.to_sql(name='crew', con=engine, index=False)\n",
    "details_df.to_sql(name='details', con=engine, index=False)\n",
    "streaming_df.to_sql(name='streaming', con=engine, index=False)"
   ]
  },
  {
   "cell_type": "code",
   "execution_count": 37,
   "metadata": {},
   "outputs": [
    {
     "data": {
      "text/html": [
       "<div>\n",
       "<style scoped>\n",
       "    .dataframe tbody tr th:only-of-type {\n",
       "        vertical-align: middle;\n",
       "    }\n",
       "\n",
       "    .dataframe tbody tr th {\n",
       "        vertical-align: top;\n",
       "    }\n",
       "\n",
       "    .dataframe thead th {\n",
       "        text-align: right;\n",
       "    }\n",
       "</style>\n",
       "<table border=\"1\" class=\"dataframe\">\n",
       "  <thead>\n",
       "    <tr style=\"text-align: right;\">\n",
       "      <th></th>\n",
       "      <th>hulu</th>\n",
       "    </tr>\n",
       "  </thead>\n",
       "  <tbody>\n",
       "    <tr>\n",
       "      <td>0</td>\n",
       "      <td>0</td>\n",
       "    </tr>\n",
       "  </tbody>\n",
       "</table>\n",
       "</div>"
      ],
      "text/plain": [
       "   hulu\n",
       "0     0"
      ]
     },
     "execution_count": 37,
     "metadata": {},
     "output_type": "execute_result"
    }
   ],
   "source": [
    "#check to make sure merged_df went into pgAdim\n",
    "#query something to make sure it is not in SQL format\n",
    "pd.read_sql_query(\"select hulu FROM movie_reviews where title='back to the future'\", con=engine).head()"
   ]
  },
  {
   "cell_type": "code",
   "execution_count": 38,
   "metadata": {},
   "outputs": [
    {
     "data": {
      "text/html": [
       "<div>\n",
       "<style scoped>\n",
       "    .dataframe tbody tr th:only-of-type {\n",
       "        vertical-align: middle;\n",
       "    }\n",
       "\n",
       "    .dataframe tbody tr th {\n",
       "        vertical-align: top;\n",
       "    }\n",
       "\n",
       "    .dataframe thead th {\n",
       "        text-align: right;\n",
       "    }\n",
       "</style>\n",
       "<table border=\"1\" class=\"dataframe\">\n",
       "  <thead>\n",
       "    <tr style=\"text-align: right;\">\n",
       "      <th></th>\n",
       "      <th>imdb</th>\n",
       "    </tr>\n",
       "  </thead>\n",
       "  <tbody>\n",
       "    <tr>\n",
       "      <td>0</td>\n",
       "      <td>8.5</td>\n",
       "    </tr>\n",
       "  </tbody>\n",
       "</table>\n",
       "</div>"
      ],
      "text/plain": [
       "   imdb\n",
       "0   8.5"
      ]
     },
     "execution_count": 38,
     "metadata": {},
     "output_type": "execute_result"
    }
   ],
   "source": [
    "pd.read_sql_query(\"select imdb FROM ratings where title = 'back to the future'\", con=engine).head()"
   ]
  },
  {
   "cell_type": "code",
   "execution_count": 45,
   "metadata": {},
   "outputs": [
    {
     "data": {
      "text/plain": [
       "1"
      ]
     },
     "execution_count": 45,
     "metadata": {},
     "output_type": "execute_result"
    }
   ],
   "source": [
    "pd.read_sql_query(\"select netflix FROM movie_reviews where title = 'back to the future'\", con=engine)[\"netflix\"].sum()"
   ]
  },
  {
   "cell_type": "code",
   "execution_count": 40,
   "metadata": {},
   "outputs": [
    {
     "data": {
      "text/plain": [
       "0"
      ]
     },
     "execution_count": 40,
     "metadata": {},
     "output_type": "execute_result"
    }
   ],
   "source": [
    "pd.read_sql_query(\"select hulu FROM streaming where title = 'back to the future'\", con=engine)[\"hulu\"].sum()"
   ]
  },
  {
   "cell_type": "code",
   "execution_count": 41,
   "metadata": {},
   "outputs": [
    {
     "data": {
      "text/html": [
       "<div>\n",
       "<style scoped>\n",
       "    .dataframe tbody tr th:only-of-type {\n",
       "        vertical-align: middle;\n",
       "    }\n",
       "\n",
       "    .dataframe tbody tr th {\n",
       "        vertical-align: top;\n",
       "    }\n",
       "\n",
       "    .dataframe thead th {\n",
       "        text-align: right;\n",
       "    }\n",
       "</style>\n",
       "<table border=\"1\" class=\"dataframe\">\n",
       "  <thead>\n",
       "    <tr style=\"text-align: right;\">\n",
       "      <th></th>\n",
       "      <th>actors</th>\n",
       "    </tr>\n",
       "  </thead>\n",
       "  <tbody>\n",
       "    <tr>\n",
       "      <td>0</td>\n",
       "      <td>Michael J. Fox, Christopher Lloyd, Lea Thompso...</td>\n",
       "    </tr>\n",
       "  </tbody>\n",
       "</table>\n",
       "</div>"
      ],
      "text/plain": [
       "                                              actors\n",
       "0  Michael J. Fox, Christopher Lloyd, Lea Thompso..."
      ]
     },
     "execution_count": 41,
     "metadata": {},
     "output_type": "execute_result"
    }
   ],
   "source": [
    "pd.read_sql_query(\"select actors FROM crew where title = 'back to the future'\", con=engine).head()"
   ]
  },
  {
   "cell_type": "code",
   "execution_count": 42,
   "metadata": {},
   "outputs": [
    {
     "data": {
      "text/html": [
       "<div>\n",
       "<style scoped>\n",
       "    .dataframe tbody tr th:only-of-type {\n",
       "        vertical-align: middle;\n",
       "    }\n",
       "\n",
       "    .dataframe tbody tr th {\n",
       "        vertical-align: top;\n",
       "    }\n",
       "\n",
       "    .dataframe thead th {\n",
       "        text-align: right;\n",
       "    }\n",
       "</style>\n",
       "<table border=\"1\" class=\"dataframe\">\n",
       "  <thead>\n",
       "    <tr style=\"text-align: right;\">\n",
       "      <th></th>\n",
       "      <th>genre</th>\n",
       "    </tr>\n",
       "  </thead>\n",
       "  <tbody>\n",
       "    <tr>\n",
       "      <td>0</td>\n",
       "      <td>Adventure, Comedy, Sci-Fi</td>\n",
       "    </tr>\n",
       "  </tbody>\n",
       "</table>\n",
       "</div>"
      ],
      "text/plain": [
       "                       genre\n",
       "0  Adventure, Comedy, Sci-Fi"
      ]
     },
     "execution_count": 42,
     "metadata": {},
     "output_type": "execute_result"
    }
   ],
   "source": [
    "pd.read_sql_query(\"select genre FROM details where title = 'back to the future'\", con=engine).head()"
   ]
  },
  {
   "cell_type": "code",
   "execution_count": 43,
   "metadata": {},
   "outputs": [
    {
     "data": {
      "text/html": [
       "<div>\n",
       "<style scoped>\n",
       "    .dataframe tbody tr th:only-of-type {\n",
       "        vertical-align: middle;\n",
       "    }\n",
       "\n",
       "    .dataframe tbody tr th {\n",
       "        vertical-align: top;\n",
       "    }\n",
       "\n",
       "    .dataframe thead th {\n",
       "        text-align: right;\n",
       "    }\n",
       "</style>\n",
       "<table border=\"1\" class=\"dataframe\">\n",
       "  <thead>\n",
       "    <tr style=\"text-align: right;\">\n",
       "      <th></th>\n",
       "      <th>worldwide</th>\n",
       "    </tr>\n",
       "  </thead>\n",
       "  <tbody>\n",
       "    <tr>\n",
       "      <td>0</td>\n",
       "      <td>$ 388355305</td>\n",
       "    </tr>\n",
       "  </tbody>\n",
       "</table>\n",
       "</div>"
      ],
      "text/plain": [
       "     worldwide\n",
       "0  $ 388355305"
      ]
     },
     "execution_count": 43,
     "metadata": {},
     "output_type": "execute_result"
    }
   ],
   "source": [
    "pd.read_sql_query(\"select worldwide FROM economy where title = 'back to the future'\", con=engine).head()"
   ]
  },
  {
   "cell_type": "code",
   "execution_count": 46,
   "metadata": {},
   "outputs": [
    {
     "name": "stdout",
     "output_type": "stream",
     "text": [
      "What movie are you trying to watch today?BaCK tO The FutURe\n",
      "BaCK tO The FutURe can be found on netflix\n"
     ]
    }
   ],
   "source": [
    "#List to loop through streaming services and check for results\n",
    "stream_service = [\"hulu\", \"netflix\", \"prime\", \"disney\"]\n",
    "user_input = input(\"What movie are you trying to watch today?\")\n",
    "user_movie = user_input.lower()\n",
    "\n",
    "for x in stream_service:\n",
    "    if pd.read_sql_query(f\"select {x} FROM movie_reviews where title = '{user_movie}'\", con=engine)[f\"{x}\"].sum() == 1:\n",
    "        print(f\"{user_input} can be found on {x}\")\n",
    "        break\n",
    "    if x == \"disney\":\n",
    "        print(f\"{user_input} was not found on Netflix, Hulu, Amazon Prime or Disney+\")\n",
    "    next"
   ]
  }
 ],
 "metadata": {
  "kernelspec": {
   "display_name": "Python 3",
   "language": "python",
   "name": "python3"
  },
  "language_info": {
   "codemirror_mode": {
    "name": "ipython",
    "version": 3
   },
   "file_extension": ".py",
   "mimetype": "text/x-python",
   "name": "python",
   "nbconvert_exporter": "python",
   "pygments_lexer": "ipython3",
   "version": "3.7.4"
  }
 },
 "nbformat": 4,
 "nbformat_minor": 2
}

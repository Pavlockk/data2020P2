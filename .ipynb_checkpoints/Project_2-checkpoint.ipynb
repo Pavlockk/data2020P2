{
 "cells": [
  {
   "cell_type": "code",
   "execution_count": 1,
   "metadata": {},
   "outputs": [],
   "source": [
    "import numpy as np\n",
    "import pandas as pd\n",
    "import matplotlib.pyplot as plt\n",
    "import requests\n",
    "import json\n",
    "from scipy import stats as st\n",
    "from census import Census\n",
    "from config import census_key\n",
    "from config import noaa_key\n",
    "from config import gov_key"
   ]
  },
  {
   "cell_type": "code",
   "execution_count": 21,
   "metadata": {},
   "outputs": [
    {
     "data": {
      "text/plain": [
       "'https://api.usa.gov/crime/fbi/sapi/api/summarized/estimates/national/2018/2019?api_key=PxOYw0MdmfAwv2LARthJvUWIQ5x2TAxGEG7VxDga'"
      ]
     },
     "execution_count": 21,
     "metadata": {},
     "output_type": "execute_result"
    }
   ],
   "source": [
    "noaa_end = 'stations'\n",
    "crime_end = 'api/summarized/estimates/national/2018/2019'\n",
    "noaa_url = f\"https://www.ncdc.noaa.gov/cdo-web/api/v2/{noaa_end}\"\n",
    "crime_url = f\"https://api.usa.gov/crime/fbi/sapi/{crime_end}?api_key={gov_key}\"\n",
    "crime_url"
   ]
  },
  {
   "cell_type": "code",
   "execution_count": null,
   "metadata": {},
   "outputs": [],
   "source": [
    "c = Census(census_key, year=2017)\n",
    "census_data = c.acs5.get((\"NAME\", \"B19013_001E\", \n",
    "                          \"B01003_001E\", \n",
    "                          \"B01002_001E\",\n",
    "                          \"B19301_001E\",\n",
    "                          \"B17001_002E\",\n",
    "                          \"B23025_005E\",\n",
    "                         \"B25077_001E\",\n",
    "                         \"B15003_022E\",\n",
    "                         \"B25064_001E\",\n",
    "                         \"C24010_007E\",\n",
    "                         \"C24010_008E\",\n",
    "                         \"C24010_043E\",\n",
    "                         \"C24010_044E\"), {'for': 'zip code tabulation area:*'})\n",
    "\n",
    "# Convert to DataFrame\n",
    "census_pd = pd.DataFrame(census_data)\n",
    "\n",
    "# Column Reordering\n",
    "census_pd = census_pd.rename(columns={\"B01003_001E\": \"Population\",\n",
    "                                      \"B01002_001E\": \"Median Age\",\n",
    "                                      \"B19013_001E\": \"Household Income\",\n",
    "                                      \"B19301_001E\": \"Per Capita Income\",\n",
    "                                      \"B17001_002E\": \"Poverty Count\",\n",
    "                                      \"B23025_005E\": \"Unemployment Count\",\n",
    "                                      \"B25077_001E\": \"Median Home Value\",\n",
    "                                      \"B15003_022E\": \"Bachelor Count\",\n",
    "                                      \"B25064_001E\": \"Median Gross Rent\",\n",
    "                                      \"C24010_007E\": \"Men in STEM\",\n",
    "                                      \"C24010_008E\": \"Men in Computers & Math\",\n",
    "                                      \"C24010_043E\": \"Women in STEM\",\n",
    "                                      \"C24010_044E\": \"Women in Computers & Math\",\n",
    "                                      \"NAME\": \"Name\", \"zip code tabulation area\": \"Zip Code\"})\n",
    "Census_Cleaned = census_pd[[\"Median Gross Rent\",\n",
    "                            \"Median Home Value\",\n",
    "                            \"Per Capita Income\",\n",
    "                            \"Men in STEM\",\n",
    "                            \"Men in Computers & Math\",\n",
    "                            \"Women in STEM\",\n",
    "                            \"Women in Computers & Math\",\n",
    "                            \"Zip Code\"]]\n",
    "Census_Cleaned = Census_Cleaned.dropna()\n",
    "Census_Cleaned.head(10)"
   ]
  },
  {
   "cell_type": "code",
   "execution_count": null,
   "metadata": {},
   "outputs": [],
   "source": [
    "Climate = requests.get(noaa_url, headers={'token': noaa_key},).json()"
   ]
  },
  {
   "cell_type": "code",
   "execution_count": null,
   "metadata": {},
   "outputs": [],
   "source": [
    "Climate1 = Climate['results']"
   ]
  },
  {
   "cell_type": "code",
   "execution_count": null,
   "metadata": {},
   "outputs": [],
   "source": [
    "Climate_pd = pd.DataFrame(Climate1)"
   ]
  },
  {
   "cell_type": "code",
   "execution_count": null,
   "metadata": {},
   "outputs": [],
   "source": [
    "Climate_pd.head()"
   ]
  },
  {
   "cell_type": "code",
   "execution_count": 27,
   "metadata": {},
   "outputs": [
    {
     "data": {
      "text/plain": [
       "[{'state_id': None,\n",
       "  'state_abbr': None,\n",
       "  'year': 2018,\n",
       "  'population': 327167434,\n",
       "  'violent_crime': 1245065,\n",
       "  'homicide': 16214,\n",
       "  'rape_legacy': None,\n",
       "  'rape_revised': 139380,\n",
       "  'robbery': 282061,\n",
       "  'aggravated_assault': 807410,\n",
       "  'property_crime': 7196045,\n",
       "  'burglary': 1230149,\n",
       "  'larceny': 5217055,\n",
       "  'motor_vehicle_theft': 748841,\n",
       "  'arson': 37835}]"
      ]
     },
     "execution_count": 27,
     "metadata": {},
     "output_type": "execute_result"
    }
   ],
   "source": [
    "Crime = requests.get(crime_url).json()\n",
    "Crime['results']"
   ]
  },
  {
   "cell_type": "code",
   "execution_count": 28,
   "metadata": {},
   "outputs": [],
   "source": []
  },
  {
   "cell_type": "raw",
   "metadata": {},
   "source": []
  },
  {
   "cell_type": "code",
   "execution_count": null,
   "metadata": {},
   "outputs": [],
   "source": []
  }
 ],
 "metadata": {
  "kernelspec": {
   "display_name": "Python 3",
   "language": "python",
   "name": "python3"
  },
  "language_info": {
   "codemirror_mode": {
    "name": "ipython",
    "version": 3
   },
   "file_extension": ".py",
   "mimetype": "text/x-python",
   "name": "python",
   "nbconvert_exporter": "python",
   "pygments_lexer": "ipython3",
   "version": "3.7.6"
  }
 },
 "nbformat": 4,
 "nbformat_minor": 4
}

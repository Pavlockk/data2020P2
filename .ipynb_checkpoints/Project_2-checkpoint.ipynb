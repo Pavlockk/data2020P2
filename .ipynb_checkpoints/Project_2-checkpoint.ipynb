{
 "cells": [
  {
   "cell_type": "code",
   "execution_count": 10,
   "metadata": {},
   "outputs": [],
   "source": [
    "import numpy as np\n",
    "import pandas as pd\n",
    "import matplotlib.pyplot as plt\n",
    "import requests\n",
    "from scipy import stats as st\n",
    "from census import Census\n",
    "from config import api_key\n",
    "from config import noaa_key\n",
    "c = Census(api_key, year=2017)\n",
    "noaa_url = f\"https://www.ncdc.noaa.gov/cdo-web/api/v2/datasets?token={noaa_key}\"\n",
    "# I need to be able to return this data using an api call. the data can be sorted using zip codes and then merged\n",
    "# https://www1.ncdc.noaa.gov/pub/data/normals/1981-2010/readme.txt This has some info on the api, i gotta get\n",
    "# to work rn but once i get this working well it should make it fairly easy to sort. Thanks yall"
   ]
  },
  {
   "cell_type": "code",
   "execution_count": null,
   "metadata": {},
   "outputs": [],
   "source": [
    "census_data = c.acs5.get((\"NAME\", \"B19013_001E\", \n",
    "                          \"B01003_001E\", \n",
    "                          \"B01002_001E\",\n",
    "                          \"B19301_001E\",\n",
    "                          \"B17001_002E\",\n",
    "                          \"B23025_005E\",\n",
    "                         \"B25077_001E\",\n",
    "                         \"B15003_022E\",\n",
    "                         \"B25064_001E\",\n",
    "                         \"C24010_007E\",\n",
    "                         \"C24010_008E\",\n",
    "                         \"C24010_043E\",\n",
    "                         \"C24010_044E\"), {'for': 'zip code tabulation area:*'})\n",
    "\n",
    "# Convert to DataFrame\n",
    "census_pd = pd.DataFrame(census_data)\n",
    "\n",
    "# Column Reordering\n",
    "census_pd = census_pd.rename(columns={\"B01003_001E\": \"Population\",\n",
    "                                      \"B01002_001E\": \"Median Age\",\n",
    "                                      \"B19013_001E\": \"Household Income\",\n",
    "                                      \"B19301_001E\": \"Per Capita Income\",\n",
    "                                      \"B17001_002E\": \"Poverty Count\",\n",
    "                                      \"B23025_005E\": \"Unemployment Count\",\n",
    "                                      \"B25077_001E\": \"Median Home Value\",\n",
    "                                      \"B15003_022E\": \"Bachelor Count\",\n",
    "                                      \"B25064_001E\": \"Median Gross Rent\",\n",
    "                                      \"C24010_007E\": \"Men in STEM\",\n",
    "                                      \"C24010_008E\": \"Men in Computers & Math\",\n",
    "                                      \"C24010_043E\": \"Women in STEM\",\n",
    "                                      \"C24010_044E\": \"Women in Computers & Math\",\n",
    "                                      \"NAME\": \"Name\", \"zip code tabulation area\": \"Zip Code\"})\n",
    "Census_Cleaned = census_pd[[\"Median Gross Rent\",\n",
    "                            \"Median Home Value\",\n",
    "                            \"Per Capita Income\",\n",
    "                            \"Men in STEM\",\n",
    "                            \"Men in Computers & Math\",\n",
    "                            \"Women in STEM\",\n",
    "                            \"Women in Computers & Math\",\n",
    "                            \"Zip Code\"]]\n",
    "Census_Cleaned = Census_Cleaned.dropna()\n",
    "Census_Cleaned.head(10)"
   ]
  },
  {
   "cell_type": "code",
   "execution_count": 14,
   "metadata": {},
   "outputs": [
    {
     "data": {
      "text/plain": [
       "{'status': '400', 'message': 'Token parameter is required.'}"
      ]
     },
     "execution_count": 14,
     "metadata": {},
     "output_type": "execute_result"
    }
   ],
   "source": [
    "Climate = requests.get(noaa_url).json()\n",
    "Climate"
   ]
  },
  {
   "cell_type": "code",
   "execution_count": null,
   "metadata": {},
   "outputs": [],
   "source": []
  },
  {
   "cell_type": "code",
   "execution_count": null,
   "metadata": {},
   "outputs": [],
   "source": []
  }
 ],
 "metadata": {
  "kernelspec": {
   "display_name": "Python 3",
   "language": "python",
   "name": "python3"
  },
  "language_info": {
   "codemirror_mode": {
    "name": "ipython",
    "version": 3
   },
   "file_extension": ".py",
   "mimetype": "text/x-python",
   "name": "python",
   "nbconvert_exporter": "python",
   "pygments_lexer": "ipython3",
   "version": "3.7.6"
  }
 },
 "nbformat": 4,
 "nbformat_minor": 4
}

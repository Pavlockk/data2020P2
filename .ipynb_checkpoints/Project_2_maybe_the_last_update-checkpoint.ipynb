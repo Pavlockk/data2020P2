{
 "cells": [
  {
   "cell_type": "code",
   "execution_count": null,
   "metadata": {},
   "outputs": [],
   "source": [
    "import numpy as np\n",
    "import pandas as pd\n",
    "import matplotlib.pyplot as plt\n",
    "import requests\n",
    "import json\n",
    "from scipy import stats as st\n",
    "from sqlalchemy import create_engine\n",
    "\n",
    "pd.set_option('display.max_rows', None)"
   ]
  },
  {
   "cell_type": "code",
   "execution_count": null,
   "metadata": {},
   "outputs": [],
   "source": [
    "#set the CSV files into a database\n",
    "IMDB_route = \"Resources/movies.csv\"\n",
    "stream_route = \"Resources/Stream.csv\"\n",
    "imdb_db = pd.read_csv(IMDB_route)\n",
    "stream_db = pd.read_csv(stream_route)"
   ]
  },
  {
   "cell_type": "code",
   "execution_count": null,
   "metadata": {
    "scrolled": false
   },
   "outputs": [],
   "source": [
    "# Create the pandas DataFrame \n",
    "stream_df = pd.DataFrame(stream_db)\n",
    "\n",
    "stream_df.head()"
   ]
  },
  {
   "cell_type": "code",
   "execution_count": null,
   "metadata": {},
   "outputs": [],
   "source": [
    "# Create the pandas DataFrame \n",
    "imdb_df = pd.DataFrame(imdb_db)\n",
    "\n",
    "imdb_df = imdb_df.rename(columns={\"title\": \"Title\"})\n"
   ]
  },
  {
   "cell_type": "code",
   "execution_count": null,
   "metadata": {
    "scrolled": true
   },
   "outputs": [],
   "source": [
    "#merge the imdb_df and stream_df together into one dataframe\n",
    "merged_df = stream_df.merge(imdb_df, left_on='Title', right_on='Title')\n",
    "\n",
    "#print all the titles out to see what to cut out\n",
    "print(merged_df.columns.tolist())"
   ]
  },
  {
   "cell_type": "code",
   "execution_count": null,
   "metadata": {},
   "outputs": [],
   "source": [
    "merged_df['Title'] = merged_df['Title'].str.lower()\n",
    "merged_df.head()"
   ]
  },
  {
   "cell_type": "code",
   "execution_count": null,
   "metadata": {},
   "outputs": [],
   "source": [
    "#keep the columns I want for my new merged dataframe\n",
    "\n",
    "ratings_df = merged_df[['Title', 'IMDb', 'Rotten Tomatoes', 'metascore', 'reviews_from_users', 'reviews_from_critics']]\n",
    "\n",
    "economy_df = merged_df[['Title', 'usa_gross_income', 'worlwide_gross_income', 'budget']]\n",
    "\n",
    "crew_df = merged_df[['Title', 'director', 'writer', 'production_company', 'actors']]\n",
    "\n",
    "details_df = merged_df[['Title', 'genre', 'duration', 'country', 'language', 'description', 'date_published' ]]\n",
    "\n",
    "streaming_df = merged_df[['Title', 'Netflix' , 'Hulu', 'Prime Video', 'Disney+']]\n",
    "\n",
    "merged_df = merged_df[['Title', 'year', 'Age', 'IMDb', 'Rotten Tomatoes', 'metascore', 'description', 'Runtime', 'Netflix', 'Hulu', 'Prime Video', 'Disney+']]"
   ]
  },
  {
   "cell_type": "code",
   "execution_count": null,
   "metadata": {},
   "outputs": [],
   "source": [
    "ratings_df = ratings_df.rename(columns = {'Title': 'title', 'IMDb': 'imdb', 'Rotten Tomatoes': 'tomatoes', 'reviews_from_users': 'user','reviews_from_critics': 'critics'})\n",
    "economy_df = economy_df.rename(columns ={'Title': 'title','usa_gross_income': 'usa', 'worlwide_gross_income': 'worldwide'})\n",
    "crew_df = crew_df.rename(columns ={'Title': 'title', 'production_company': 'company'})\n",
    "details_df = details_df.rename(columns ={'Title': 'title', 'date_published': 'date'})\n",
    "streaming_df = streaming_df.rename(columns ={'Title': 'title', 'Netflix': 'netflix', 'Hulu': 'hulu', 'Prime Video': 'prime', 'Disney+': 'disney'})"
   ]
  },
  {
   "cell_type": "code",
   "execution_count": null,
   "metadata": {},
   "outputs": [],
   "source": [
    "details_df.head()"
   ]
  },
  {
   "cell_type": "code",
   "execution_count": null,
   "metadata": {},
   "outputs": [],
   "source": [
    "#rename columns to get rid of Querying issue where all of the titles has \"\" in the title\n",
    "merged_df = merged_df.rename(columns={'Title': 'title', 'Age':'age', 'IMDb':'IMDb', 'Rotten Tomatoes': 'rotten tomatoes', \n",
    "                                      'Runtime': 'runtime', 'Netflix': 'netflix', 'Hulu': 'hulu', 'Prime Video': 'prime', 'Disney+': 'disney'})\n",
    "\n",
    "merged_df.head(1)"
   ]
  },
  {
   "cell_type": "code",
   "execution_count": null,
   "metadata": {},
   "outputs": [],
   "source": []
  },
  {
   "cell_type": "code",
   "execution_count": null,
   "metadata": {},
   "outputs": [],
   "source": [
    "#create the connection to my postgres account to then add the merged_df\n",
    "#Please add your username:password for PGadmin. The database name is postgres(which must be created or have the name\n",
    "#altered to represent an existing database)\n",
    "# We used \"postgres:postgres@localhost/postgres\"\n",
    "rds_connection_string = \"username:password@localhost/postgres\"\n",
    "engine = create_engine(f'postgresql://{rds_connection_string}')"
   ]
  },
  {
   "cell_type": "code",
   "execution_count": null,
   "metadata": {},
   "outputs": [],
   "source": [
    "#check that I have the connection and what databases there are\n",
    "engine.table_names()"
   ]
  },
  {
   "cell_type": "code",
   "execution_count": null,
   "metadata": {},
   "outputs": [],
   "source": [
    "#send my merged_df into pgAdmin\n",
    "merged_df.to_sql(name='movie_reviews', con=engine, index=False)\n",
    "ratings_df.to_sql(name='ratings', con=engine, index=False)\n",
    "economy_df.to_sql(name='economy', con=engine, index=False)\n",
    "crew_df.to_sql(name='crew', con=engine, index=False)\n",
    "details_df.to_sql(name='details', con=engine, index=False)\n",
    "streaming_df.to_sql(name='streaming', con=engine, index=False)"
   ]
  },
  {
   "cell_type": "code",
   "execution_count": null,
   "metadata": {},
   "outputs": [],
   "source": [
    "#check to make sure merged_df went into pgAdim\n",
    "#query something to make sure it is not in SQL format\n",
    "pd.read_sql_query(\"select hulu FROM movie_reviews where title='Back to the Future'\", con=engine).head()"
   ]
  },
  {
   "cell_type": "code",
   "execution_count": null,
   "metadata": {},
   "outputs": [],
   "source": [
    "#pd.read_sql_query(\"select hulu FROM movie_reviews where title = 'Back to the Future'\", con=engine)[\"hulu\"].sum()\n",
    "#pd.read_sql_query(\"select imdb FROM ratings where title = 'Back to the Future'\", con=engine).head()\n",
    "#pd.read_sql_query(\"select worldwide FROM economy where title = 'Back to the Future'\", con=engine).head()\n",
    "#pd.read_sql_query(\"select actors FROM crew where title = 'Back to the Future'\", con=engine).head()\n",
    "#pd.read_sql_query(\"select genre FROM details where title = 'Back to the Future'\", con=engine).head()\n",
    "pd.read_sql_query(\"select hulu FROM streaming where title = 'Back to the Future'\", con=engine)[\"hulu\"].sum()"
   ]
  },
  {
   "cell_type": "code",
   "execution_count": null,
   "metadata": {},
   "outputs": [],
   "source": [
    "#List to loop through streaming services and check for results\n",
    "stream_service = [\"hulu\", \"netflix\", \"prime\", \"disney\"]\n",
    "user_input = input(\"What movie are you trying to watch today?\")\n",
    "user_movie = user_input.lower()\n",
    "\n",
    "for x in stream_service:\n",
    "    if pd.read_sql_query(f\"select {x} FROM movie_reviews where title = '{user_movie}'\", con=engine)[f\"{x}\"].sum() == 1:\n",
    "        print(f\"{user_input} can be found on {x}\")\n",
    "        break\n",
    "    if x == \"disney\":\n",
    "        print(f\"{user_input} was not found on Netflix, Hulu, Amazon Prime or Disney+\")\n",
    "    next"
   ]
  },
  {
   "cell_type": "code",
   "execution_count": null,
   "metadata": {},
   "outputs": [],
   "source": []
  },
  {
   "cell_type": "code",
   "execution_count": null,
   "metadata": {},
   "outputs": [],
   "source": []
  },
  {
   "cell_type": "code",
   "execution_count": null,
   "metadata": {},
   "outputs": [],
   "source": []
  }
 ],
 "metadata": {
  "kernelspec": {
   "display_name": "Python 3",
   "language": "python",
   "name": "python3"
  },
  "language_info": {
   "codemirror_mode": {
    "name": "ipython",
    "version": 3
   },
   "file_extension": ".py",
   "mimetype": "text/x-python",
   "name": "python",
   "nbconvert_exporter": "python",
   "pygments_lexer": "ipython3",
   "version": "3.7.6"
  }
 },
 "nbformat": 4,
 "nbformat_minor": 2
}
